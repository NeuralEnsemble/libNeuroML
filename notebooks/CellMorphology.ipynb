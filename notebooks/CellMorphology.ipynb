{
 "cells": [
  {
   "cell_type": "markdown",
   "metadata": {},
   "source": [
    "## Examples of using libNeuroML to handle cell morphologies\n",
    "\n",
    "First load a [NeuroML file containing a single cell](https://github.com/NeuralEnsemble/libNeuroML/blob/master/neuroml/examples/test_files/pyr_4_sym.cell.nml)."
   ]
  },
  {
   "cell_type": "code",
   "execution_count": 1,
   "metadata": {},
   "outputs": [
    {
     "name": "stdout",
     "output_type": "stream",
     "text": [
      "Loaded cell pyr_4_sym from: ../neuroml/examples/test_files/pyr_4_sym.cell.nml\n"
     ]
    }
   ],
   "source": [
    "import neuroml\n",
    "import neuroml.loaders as loaders\n",
    "\n",
    "fn = '../neuroml/examples/test_files/pyr_4_sym.cell.nml'\n",
    "doc = loaders.NeuroMLLoader.load(fn)\n",
    "cell = doc.cells[0]\n",
    "print(\"Loaded cell %s from: %s\"%(cell.id,fn))"
   ]
  },
  {
   "cell_type": "markdown",
   "metadata": {},
   "source": [
    "### Summary\n",
    "\n",
    "Print a brief summary of the cell properties"
   ]
  },
  {
   "cell_type": "code",
   "execution_count": 2,
   "metadata": {},
   "outputs": [
    {
     "name": "stdout",
     "output_type": "stream",
     "text": [
      "*******************************************************\n",
      "* Cell: pyr_4_sym\n",
      "* Notes: A simplified pyramidal cell model with 9 compartments\n",
      "* Segments: 9\n",
      "* SegmentGroups: 18\n",
      "*******************************************************\n"
     ]
    }
   ],
   "source": [
    "cell.summary()"
   ]
  },
  {
   "cell_type": "markdown",
   "metadata": {},
   "source": [
    "### Segments\n",
    "\n",
    "Print information on the segments present"
   ]
  },
  {
   "cell_type": "code",
   "execution_count": 3,
   "metadata": {},
   "outputs": [
    {
     "name": "stdout",
     "output_type": "stream",
     "text": [
      "[<Segment|0|soma>, <Segment|1|apical0>, <Segment|2|apical2>, <Segment|3|apical3>, <Segment|4|apical4>, <Segment|5|apical1>, <Segment|6|basal0>, <Segment|7|basal1>, <Segment|8|basal2>]\n",
      "\n",
      "Segment soma, id: 0 has proximal point: (0.0, 0.0, 0.0), diam 23.0um, distal: (0.0, 17.0, 0.0), diam 23.0um\n",
      " Parent segment: None (root segment)\n",
      "\n",
      "Segment apical0, id: 1 has proximal point: (0.0, 17.0, 0.0), diam 6.0um, distal: (0.0, 77.0, 0.0), diam 6.0um\n",
      " Parent segment: 0; fraction along: 1.0\n",
      "\n",
      "Segment apical2, id: 2 has proximal point: (0.0, 77.0, 0.0), diam 4.4um, distal: (0.0, 477.0, 0.0), diam 4.4um\n",
      " Parent segment: 1; fraction along: 1.0\n",
      "\n",
      "Segment apical3, id: 3 has proximal point: (0.0, 477.0, 0.0), diam 2.9um, distal: (0.0, 877.0, 0.0), diam 2.9um\n",
      " Parent segment: 2; fraction along: 1.0\n",
      "\n",
      "Segment apical4, id: 4 has proximal point: (0.0, 877.0, 0.0), diam 2.0um, distal: (0.0, 1127.0, 0.0), diam 2.0um\n",
      " Parent segment: 3; fraction along: 1.0\n",
      "\n",
      "Segment apical1, id: 5 has proximal point: (0.0, 77.0, 0.0), diam 3.0um, distal: (-150.0, 77.0, 0.0), diam 3.0um\n",
      " Parent segment: 1; fraction along: 1.0\n",
      "\n",
      "Segment basal0, id: 6 has proximal point: (0.0, 0.0, 0.0), diam 4.0um, distal: (0.0, -50.0, 0.0), diam 4.0um\n",
      " Parent segment: 0; fraction along: 0.0\n",
      "\n",
      "Segment basal1, id: 7 has proximal point: (0.0, -50.0, 0.0), diam 5.0um, distal: (106.07, -156.07, 0.0), diam 5.0um\n",
      " Parent segment: 6; fraction along: 1.0\n",
      "\n",
      "Segment basal2, id: 8 has proximal point: (0.0, -50.0, 0.0), diam 5.0um, distal: (-106.07, -156.07, 0.0), diam 5.0um\n",
      " Parent segment: 6; fraction along: 1.0\n"
     ]
    }
   ],
   "source": [
    "segments = cell.morphology.segments\n",
    "print(segments)\n",
    "\n",
    "for seg in segments:\n",
    "    print('\\nSegment %s, id: %s has proximal point: %s, distal: %s'%(seg.name, seg.id, seg.proximal, seg.distal))\n",
    "    print(' Parent segment: %s%s'%(seg.parent.segments if seg.parent else 'None (root segment)', \n",
    "                                     '; fraction along: %s'%seg.parent.fraction_along if seg.parent else ''))"
   ]
  },
  {
   "cell_type": "markdown",
   "metadata": {},
   "source": [
    "### Helper methods\n",
    "\n",
    "Note that not all segments have an explicit **proximal**. This may be omitted if the **proximal** point is the same as the **distal** of the parent. For convenience, the helper method on **cell**, **get_actual_proximal()** can be used.\n",
    "\n",
    "Note that these helper methods (and all the extra helper code that fed into the libNeuroML API) is specified [here](https://github.com/NeuralEnsemble/libNeuroML/blob/27b964c93c86796e5dcdc7d32c72e97e06ffccc2/neuroml/nml/helper_methods.py#L727), and is eventually generated into the main [nml.py](https://raw.githubusercontent.com/NeuralEnsemble/libNeuroML/master/neuroml/nml/nml.py).\n"
   ]
  },
  {
   "cell_type": "code",
   "execution_count": 4,
   "metadata": {
    "scrolled": false
   },
   "outputs": [
    {
     "name": "stdout",
     "output_type": "stream",
     "text": [
      "<Segment|0|soma> has proximal: (0.0, 0.0, 0.0), diam 23.0um, distal: (0.0, 17.0, 0.0), diam 23.0um\n",
      "<Segment|1|apical0> has proximal: (0.0, 17.0, 0.0), diam 6.0um, distal: (0.0, 77.0, 0.0), diam 6.0um\n",
      "<Segment|2|apical2> has proximal: (0.0, 77.0, 0.0), diam 4.4um, distal: (0.0, 477.0, 0.0), diam 4.4um\n",
      "<Segment|3|apical3> has proximal: (0.0, 477.0, 0.0), diam 2.9um, distal: (0.0, 877.0, 0.0), diam 2.9um\n",
      "<Segment|4|apical4> has proximal: (0.0, 877.0, 0.0), diam 2.0um, distal: (0.0, 1127.0, 0.0), diam 2.0um\n",
      "<Segment|5|apical1> has proximal: (0.0, 77.0, 0.0), diam 3.0um, distal: (-150.0, 77.0, 0.0), diam 3.0um\n",
      "<Segment|6|basal0> has proximal: (0.0, 0.0, 0.0), diam 4.0um, distal: (0.0, -50.0, 0.0), diam 4.0um\n",
      "<Segment|7|basal1> has proximal: (0.0, -50.0, 0.0), diam 5.0um, distal: (106.07, -156.07, 0.0), diam 5.0um\n",
      "<Segment|8|basal2> has proximal: (0.0, -50.0, 0.0), diam 5.0um, distal: (-106.07, -156.07, 0.0), diam 5.0um\n"
     ]
    }
   ],
   "source": [
    "\n",
    "for seg in segments:\n",
    "    print('%s has proximal: %s, distal: %s'%(seg, \n",
    "                                             cell.get_actual_proximal(seg.id), \n",
    "                                            seg.distal))"
   ]
  },
  {
   "cell_type": "markdown",
   "metadata": {},
   "source": [
    "Other convenient helper methods include **get_segment_length()**, **get_segment_surface_area()** and **get_segment_volume()**, which also use the correct **proximal** point."
   ]
  },
  {
   "cell_type": "code",
   "execution_count": 5,
   "metadata": {},
   "outputs": [
    {
     "name": "stdout",
     "output_type": "stream",
     "text": [
      "Segment <Segment|0|soma> has length: 17.0 um, area: 1228.36272755 um^2, volume: 7063.08568343 um^3\n"
     ]
    }
   ],
   "source": [
    "\n",
    "soma = cell.get_segment(0)\n",
    "print('Segment %s has length: %s um, area: %s um^2, volume: %s um^3'%(soma, \n",
    "                                                  cell.get_segment_length(soma.id), \n",
    "                                                  cell.get_segment_surface_area(soma.id), \n",
    "                                                  cell.get_segment_volume(soma.id)))"
   ]
  },
  {
   "cell_type": "markdown",
   "metadata": {},
   "source": [
    "### Segment Groups\n",
    "\n",
    "Segment groups can refer to multiple segments (e.g. so that cannel densities can be placed across the cell).\n",
    "\n",
    "They can include individual segments (e.g. `<member segment=\"8\"/>`) and refer to other segment groups (e.g. `<include segmentGroup=\"soma\"/>`)."
   ]
  },
  {
   "cell_type": "code",
   "execution_count": 6,
   "metadata": {},
   "outputs": [
    {
     "name": "stdout",
     "output_type": "stream",
     "text": [
      "SegmentGroup: soma, 1 member(s), 0 included group(s)\n",
      "SegmentGroup: apical0, 1 member(s), 0 included group(s)\n",
      "SegmentGroup: apical2, 1 member(s), 0 included group(s)\n",
      "SegmentGroup: apical3, 1 member(s), 0 included group(s)\n",
      "SegmentGroup: apical4, 1 member(s), 0 included group(s)\n",
      "SegmentGroup: apical1, 1 member(s), 0 included group(s)\n",
      "SegmentGroup: basal0, 1 member(s), 0 included group(s)\n",
      "SegmentGroup: basal1, 1 member(s), 0 included group(s)\n",
      "SegmentGroup: basal2, 1 member(s), 0 included group(s)\n",
      "SegmentGroup: all, 0 member(s), 9 included group(s)\n",
      "SegmentGroup: soma_group, 0 member(s), 1 included group(s)\n",
      "SegmentGroup: dendrite_group, 0 member(s), 8 included group(s)\n",
      "SegmentGroup: apical_dends, 0 member(s), 5 included group(s)\n",
      "SegmentGroup: middle_apical_dendrite, 0 member(s), 1 included group(s)\n",
      "SegmentGroup: thalamic_input, 0 member(s), 1 included group(s)\n",
      "SegmentGroup: basal_dends, 0 member(s), 3 included group(s)\n",
      "SegmentGroup: basal_gaba_input, 0 member(s), 1 included group(s)\n",
      "SegmentGroup: background_input, 0 member(s), 1 included group(s)\n"
     ]
    }
   ],
   "source": [
    "for sg in cell.morphology.segment_groups:\n",
    "    print(sg)\n",
    "    if sg.id == 'dendrite_group':\n",
    "        dendrite_group = sg"
   ]
  },
  {
   "cell_type": "markdown",
   "metadata": {},
   "source": [
    "A helper method **get_all_segments_in_group()** will return a list of the segments in that group:"
   ]
  },
  {
   "cell_type": "code",
   "execution_count": 7,
   "metadata": {},
   "outputs": [
    {
     "name": "stdout",
     "output_type": "stream",
     "text": [
      "[1, 2, 3, 4, 5, 6, 7, 8]\n"
     ]
    }
   ],
   "source": [
    "dend_segs = cell.get_all_segments_in_group(dendrite_group.id)\n",
    "print(dend_segs)"
   ]
  },
  {
   "cell_type": "code",
   "execution_count": null,
   "metadata": {},
   "outputs": [],
   "source": []
  }
 ],
 "metadata": {
  "kernelspec": {
   "display_name": "Python 3",
   "language": "python",
   "name": "python3"
  },
  "language_info": {
   "codemirror_mode": {
    "name": "ipython",
    "version": 3
   },
   "file_extension": ".py",
   "mimetype": "text/x-python",
   "name": "python",
   "nbconvert_exporter": "python",
   "pygments_lexer": "ipython3",
   "version": "3.7.7"
  }
 },
 "nbformat": 4,
 "nbformat_minor": 2
}

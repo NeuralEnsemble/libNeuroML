{
 "cells": [
  {
   "cell_type": "markdown",
   "metadata": {},
   "source": [
    "# Use of NeuroML HDF5 serialisation format\n",
    "\n",
    "\n",
    "The main serialisation format for NeuroML 2 is XML, but a serialisation form based on HDF5 is also supported.\n",
    "\n",
    "The main advantages of this are:\n",
    " \n",
    "- Models can be built with libNeuroML and saved automatically in this format ([code](https://github.com/NeuralEnsemble/libNeuroML/tree/master/neuroml/hdf5))\n",
    "- An identical format is used in the Java based libraries ([code](https://github.com/NeuroML/org.neuroml.model/tree/master/src/main/java/org/neuroml/model/util/hdf5))\n",
    "\n",
    "Note though:\n",
    "\n",
    "- Documentation at this time is minimal\n",
    "- The serialisation concentrates on efficient storage of network properties (cell positions, connections), rather than morphologies (this is not an issue if populations with multiple identical cells are used)\n",
    "\n"
   ]
  },
  {
   "cell_type": "markdown",
   "metadata": {},
   "source": [
    "## Writing to the format\n",
    "\n",
    "To write a model constructed in/loaded into libNeuroML to HDF5 format, use the NeuroMLHdf5Writer class (e.g. see [build_complete.py](https://github.com/NeuralEnsemble/libNeuroML/blob/master/neuroml/examples/build_complete.py))\n",
    "\n",
    "```\n",
    "import neuroml.writers as writers\n",
    "\n",
    "nml_doc = ...\n",
    "\n",
    "writers.NeuroMLHdf5Writer.write(nml_doc, 'complete.nml.h5')\n",
    "```\n"
   ]
  },
  {
   "cell_type": "markdown",
   "metadata": {},
   "source": [
    "## Loading the HDF5 format\n",
    "\n",
    "You can use NeuroMLHdf5Loader:\n",
    "\n",
    "```\n",
    "from neuroml import loaders\n",
    "\n",
    "nml_doc2 = loaders.NeuroMLHdf5Loader.load('complete.nml.h5')\n",
    "```\n",
    "\n",
    "or **even better** use read_neuroml2_file, so that the included files (cells, channels) will be loaded into memory too:\n",
    "\n",
    "```\n",
    "nml_doc2 = loaders.read_neuroml2_file(nml_h5_file, include_includes=True)\n",
    "```\n",
    "\n",
    "See a test example [here](https://github.com/NeuralEnsemble/libNeuroML/blob/master/neuroml/test/test_hdf5_parser.py) for writing/reading the format.\n"
   ]
  },
  {
   "cell_type": "markdown",
   "metadata": {},
   "source": [
    "## Loading as \"optimized\" format\n",
    "\n",
    "It is also possible to load the HDF5 files as \"optimized\" format. This means:\n",
    "\n",
    "- Instead of constructing the tree of classes in memory for instances/connections etc. it just stores the datasets for the positions and connections in memory as HDF5 datasets and uses these when info about positions/connections are requested.\n",
    "\n",
    "The rest of the NeuroML (cells, channels) are loaded in the normal way.\n",
    "\n",
    "```\n",
    "from neuroml import loaders\n",
    "\n",
    "nml_doc2 = loaders.read_neuroml2_file(nml_h5_file,\n",
    "                                      include_includes=True,\n",
    "                                      optimized=True)\n",
    "```"
   ]
  },
  {
   "cell_type": "code",
   "execution_count": null,
   "metadata": {},
   "outputs": [],
   "source": []
  }
 ],
 "metadata": {
  "kernelspec": {
   "display_name": "Python 3",
   "language": "python",
   "name": "python3"
  },
  "language_info": {
   "codemirror_mode": {
    "name": "ipython",
    "version": 3
   },
   "file_extension": ".py",
   "mimetype": "text/x-python",
   "name": "python",
   "nbconvert_exporter": "python",
   "pygments_lexer": "ipython3",
   "version": "3.7.7"
  }
 },
 "nbformat": 4,
 "nbformat_minor": 4
}
